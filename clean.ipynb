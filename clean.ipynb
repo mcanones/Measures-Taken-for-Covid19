{
 "cells": [
  {
   "cell_type": "markdown",
   "metadata": {},
   "source": [
    "# 1) Exploring dataset"
   ]
  },
  {
   "cell_type": "markdown",
   "metadata": {},
   "source": [
    "### 1.1) Import libraries"
   ]
  },
  {
   "cell_type": "code",
   "execution_count": 1,
   "metadata": {},
   "outputs": [],
   "source": [
    "import numpy as np\n",
    "import pandas as pd\n",
    "import datetime"
   ]
  },
  {
   "cell_type": "markdown",
   "metadata": {},
   "source": [
    "### 1.2) Read dataset"
   ]
  },
  {
   "cell_type": "markdown",
   "metadata": {},
   "source": [
    "Dataset: https://www.kaggle.com/barun2104/government-measures-to-combat-covid19"
   ]
  },
  {
   "cell_type": "code",
   "execution_count": 2,
   "metadata": {},
   "outputs": [],
   "source": [
    "df = pd.read_csv('./input/covid.csv', encoding='latin-1')"
   ]
  },
  {
   "cell_type": "markdown",
   "metadata": {},
   "source": [
    "### 1.3) Explore dataset"
   ]
  },
  {
   "cell_type": "code",
   "execution_count": 3,
   "metadata": {},
   "outputs": [
    {
     "data": {
      "text/html": [
       "<div>\n",
       "<style scoped>\n",
       "    .dataframe tbody tr th:only-of-type {\n",
       "        vertical-align: middle;\n",
       "    }\n",
       "\n",
       "    .dataframe tbody tr th {\n",
       "        vertical-align: top;\n",
       "    }\n",
       "\n",
       "    .dataframe thead th {\n",
       "        text-align: right;\n",
       "    }\n",
       "</style>\n",
       "<table border=\"1\" class=\"dataframe\">\n",
       "  <thead>\n",
       "    <tr style=\"text-align: right;\">\n",
       "      <th></th>\n",
       "      <th>ID</th>\n",
       "      <th>COUNTRY</th>\n",
       "      <th>ISO</th>\n",
       "      <th>ADMIN_LEVEL_NAME</th>\n",
       "      <th>PCODE</th>\n",
       "      <th>REGION</th>\n",
       "      <th>LOG_TYPE</th>\n",
       "      <th>CATEGORY</th>\n",
       "      <th>MEASURE</th>\n",
       "      <th>TARGETED_POP_GROUP</th>\n",
       "      <th>...</th>\n",
       "      <th>SOURCE</th>\n",
       "      <th>SOURCE_TYPE</th>\n",
       "      <th>LINK</th>\n",
       "      <th>ENTRY_DATE</th>\n",
       "      <th>Alternative source</th>\n",
       "      <th>Unnamed: 18</th>\n",
       "      <th>Unnamed: 19</th>\n",
       "      <th>Unnamed: 20</th>\n",
       "      <th>Unnamed: 21</th>\n",
       "      <th>Unnamed: 22</th>\n",
       "    </tr>\n",
       "  </thead>\n",
       "  <tbody>\n",
       "    <tr>\n",
       "      <th>0</th>\n",
       "      <td>1.0</td>\n",
       "      <td>Afghanistan</td>\n",
       "      <td>AFG</td>\n",
       "      <td>NaN</td>\n",
       "      <td>NaN</td>\n",
       "      <td>Asia</td>\n",
       "      <td>Introduction / extension of measures</td>\n",
       "      <td>Public health measures</td>\n",
       "      <td>Health screenings in airports and border cross...</td>\n",
       "      <td>No</td>\n",
       "      <td>...</td>\n",
       "      <td>Ministry of Health</td>\n",
       "      <td>Government</td>\n",
       "      <td>https://moph.gov.af/en/moph-held-emergency-mee...</td>\n",
       "      <td>14-03-2020</td>\n",
       "      <td>NaN</td>\n",
       "      <td>NaN</td>\n",
       "      <td>NaN</td>\n",
       "      <td>NaN</td>\n",
       "      <td>NaN</td>\n",
       "      <td>NaN</td>\n",
       "    </tr>\n",
       "    <tr>\n",
       "      <th>1</th>\n",
       "      <td>2.0</td>\n",
       "      <td>Afghanistan</td>\n",
       "      <td>AFG</td>\n",
       "      <td>Kabul</td>\n",
       "      <td>NaN</td>\n",
       "      <td>Asia</td>\n",
       "      <td>Introduction / extension of measures</td>\n",
       "      <td>Public health measures</td>\n",
       "      <td>Introduction of isolation and quarantine policies</td>\n",
       "      <td>No</td>\n",
       "      <td>...</td>\n",
       "      <td>Ministry of Health</td>\n",
       "      <td>Government</td>\n",
       "      <td>https://moph.gov.af/en/moph-held-emergency-mee...</td>\n",
       "      <td>14-03-2020</td>\n",
       "      <td>NaN</td>\n",
       "      <td>NaN</td>\n",
       "      <td>NaN</td>\n",
       "      <td>NaN</td>\n",
       "      <td>NaN</td>\n",
       "      <td>NaN</td>\n",
       "    </tr>\n",
       "    <tr>\n",
       "      <th>2</th>\n",
       "      <td>3.0</td>\n",
       "      <td>Afghanistan</td>\n",
       "      <td>AFG</td>\n",
       "      <td>NaN</td>\n",
       "      <td>NaN</td>\n",
       "      <td>Asia</td>\n",
       "      <td>Introduction / extension of measures</td>\n",
       "      <td>Public health measures</td>\n",
       "      <td>Awareness campaigns</td>\n",
       "      <td>No</td>\n",
       "      <td>...</td>\n",
       "      <td>Ministry of Health</td>\n",
       "      <td>Government</td>\n",
       "      <td>https://moph.gov.af/en/moph-held-emergency-mee...</td>\n",
       "      <td>14-03-2020</td>\n",
       "      <td>NaN</td>\n",
       "      <td>NaN</td>\n",
       "      <td>NaN</td>\n",
       "      <td>NaN</td>\n",
       "      <td>NaN</td>\n",
       "      <td>NaN</td>\n",
       "    </tr>\n",
       "    <tr>\n",
       "      <th>3</th>\n",
       "      <td>4.0</td>\n",
       "      <td>Afghanistan</td>\n",
       "      <td>AFG</td>\n",
       "      <td>NaN</td>\n",
       "      <td>NaN</td>\n",
       "      <td>Asia</td>\n",
       "      <td>Introduction / extension of measures</td>\n",
       "      <td>Governance and socio-economic measures</td>\n",
       "      <td>Emergency administrative structures activated ...</td>\n",
       "      <td>No</td>\n",
       "      <td>...</td>\n",
       "      <td>Ministry of Health</td>\n",
       "      <td>Government</td>\n",
       "      <td>https://moph.gov.af/en/moph-held-emergency-mee...</td>\n",
       "      <td>14-03-2020</td>\n",
       "      <td>NaN</td>\n",
       "      <td>NaN</td>\n",
       "      <td>NaN</td>\n",
       "      <td>NaN</td>\n",
       "      <td>NaN</td>\n",
       "      <td>NaN</td>\n",
       "    </tr>\n",
       "    <tr>\n",
       "      <th>4</th>\n",
       "      <td>5.0</td>\n",
       "      <td>Afghanistan</td>\n",
       "      <td>AFG</td>\n",
       "      <td>NaN</td>\n",
       "      <td>NaN</td>\n",
       "      <td>Asia</td>\n",
       "      <td>Introduction / extension of measures</td>\n",
       "      <td>Social distancing</td>\n",
       "      <td>Limit public gatherings</td>\n",
       "      <td>No</td>\n",
       "      <td>...</td>\n",
       "      <td>AA</td>\n",
       "      <td>Media</td>\n",
       "      <td>https://www.aa.com.tr/en/asia-pacific/coronavi...</td>\n",
       "      <td>14-03-2020</td>\n",
       "      <td>NaN</td>\n",
       "      <td>NaN</td>\n",
       "      <td>NaN</td>\n",
       "      <td>NaN</td>\n",
       "      <td>NaN</td>\n",
       "      <td>NaN</td>\n",
       "    </tr>\n",
       "  </tbody>\n",
       "</table>\n",
       "<p>5 rows × 23 columns</p>\n",
       "</div>"
      ],
      "text/plain": [
       "    ID      COUNTRY  ISO ADMIN_LEVEL_NAME  PCODE REGION  \\\n",
       "0  1.0  Afghanistan  AFG              NaN    NaN   Asia   \n",
       "1  2.0  Afghanistan  AFG            Kabul    NaN   Asia   \n",
       "2  3.0  Afghanistan  AFG              NaN    NaN   Asia   \n",
       "3  4.0  Afghanistan  AFG              NaN    NaN   Asia   \n",
       "4  5.0  Afghanistan  AFG              NaN    NaN   Asia   \n",
       "\n",
       "                               LOG_TYPE  \\\n",
       "0  Introduction / extension of measures   \n",
       "1  Introduction / extension of measures   \n",
       "2  Introduction / extension of measures   \n",
       "3  Introduction / extension of measures   \n",
       "4  Introduction / extension of measures   \n",
       "\n",
       "                                 CATEGORY  \\\n",
       "0                  Public health measures   \n",
       "1                  Public health measures   \n",
       "2                  Public health measures   \n",
       "3  Governance and socio-economic measures   \n",
       "4                       Social distancing   \n",
       "\n",
       "                                             MEASURE TARGETED_POP_GROUP  ...  \\\n",
       "0  Health screenings in airports and border cross...                 No  ...   \n",
       "1  Introduction of isolation and quarantine policies                 No  ...   \n",
       "2                                Awareness campaigns                 No  ...   \n",
       "3  Emergency administrative structures activated ...                 No  ...   \n",
       "4                            Limit public gatherings                 No  ...   \n",
       "\n",
       "               SOURCE SOURCE_TYPE  \\\n",
       "0  Ministry of Health  Government   \n",
       "1  Ministry of Health  Government   \n",
       "2  Ministry of Health  Government   \n",
       "3  Ministry of Health  Government   \n",
       "4                  AA       Media   \n",
       "\n",
       "                                                LINK  ENTRY_DATE  \\\n",
       "0  https://moph.gov.af/en/moph-held-emergency-mee...  14-03-2020   \n",
       "1  https://moph.gov.af/en/moph-held-emergency-mee...  14-03-2020   \n",
       "2  https://moph.gov.af/en/moph-held-emergency-mee...  14-03-2020   \n",
       "3  https://moph.gov.af/en/moph-held-emergency-mee...  14-03-2020   \n",
       "4  https://www.aa.com.tr/en/asia-pacific/coronavi...  14-03-2020   \n",
       "\n",
       "  Alternative source Unnamed: 18 Unnamed: 19 Unnamed: 20  Unnamed: 21  \\\n",
       "0                NaN         NaN         NaN         NaN          NaN   \n",
       "1                NaN         NaN         NaN         NaN          NaN   \n",
       "2                NaN         NaN         NaN         NaN          NaN   \n",
       "3                NaN         NaN         NaN         NaN          NaN   \n",
       "4                NaN         NaN         NaN         NaN          NaN   \n",
       "\n",
       "   Unnamed: 22  \n",
       "0          NaN  \n",
       "1          NaN  \n",
       "2          NaN  \n",
       "3          NaN  \n",
       "4          NaN  \n",
       "\n",
       "[5 rows x 23 columns]"
      ]
     },
     "metadata": {},
     "output_type": "display_data"
    }
   ],
   "source": [
    "display(df.head(5))"
   ]
  },
  {
   "cell_type": "code",
   "execution_count": 4,
   "metadata": {},
   "outputs": [
    {
     "data": {
      "text/plain": [
       "(5072, 23)"
      ]
     },
     "execution_count": 4,
     "metadata": {},
     "output_type": "execute_result"
    }
   ],
   "source": [
    "df.shape"
   ]
  },
  {
   "cell_type": "code",
   "execution_count": 5,
   "metadata": {},
   "outputs": [
    {
     "data": {
      "text/plain": [
       "ID                     619\n",
       "COUNTRY                619\n",
       "ISO                    619\n",
       "ADMIN_LEVEL_NAME      4820\n",
       "PCODE                 5072\n",
       "REGION                 619\n",
       "LOG_TYPE               619\n",
       "CATEGORY               620\n",
       "MEASURE                619\n",
       "TARGETED_POP_GROUP     632\n",
       "COMMENTS               763\n",
       "NON_COMPLIANCE        2067\n",
       "DATE_IMPLEMENTED       798\n",
       "SOURCE                 636\n",
       "SOURCE_TYPE            637\n",
       "LINK                   648\n",
       "ENTRY_DATE             619\n",
       "Alternative source    4721\n",
       "Unnamed: 18           5072\n",
       "Unnamed: 19           5072\n",
       "Unnamed: 20           5072\n",
       "Unnamed: 21           5072\n",
       "Unnamed: 22           5072\n",
       "dtype: int64"
      ]
     },
     "execution_count": 5,
     "metadata": {},
     "output_type": "execute_result"
    }
   ],
   "source": [
    "df.isnull().sum()"
   ]
  },
  {
   "cell_type": "markdown",
   "metadata": {},
   "source": [
    "# 2) Clean dataset"
   ]
  },
  {
   "cell_type": "markdown",
   "metadata": {},
   "source": [
    "### 2.1) Select columns of interest"
   ]
  },
  {
   "cell_type": "code",
   "execution_count": 6,
   "metadata": {},
   "outputs": [],
   "source": [
    "columns=['COUNTRY', 'ISO', 'REGION','CATEGORY', 'MEASURE', 'COMMENTS', 'SOURCE', 'ENTRY_DATE']"
   ]
  },
  {
   "cell_type": "code",
   "execution_count": 7,
   "metadata": {},
   "outputs": [],
   "source": [
    "df=df[columns]"
   ]
  },
  {
   "cell_type": "code",
   "execution_count": 8,
   "metadata": {},
   "outputs": [
    {
     "data": {
      "text/html": [
       "<div>\n",
       "<style scoped>\n",
       "    .dataframe tbody tr th:only-of-type {\n",
       "        vertical-align: middle;\n",
       "    }\n",
       "\n",
       "    .dataframe tbody tr th {\n",
       "        vertical-align: top;\n",
       "    }\n",
       "\n",
       "    .dataframe thead th {\n",
       "        text-align: right;\n",
       "    }\n",
       "</style>\n",
       "<table border=\"1\" class=\"dataframe\">\n",
       "  <thead>\n",
       "    <tr style=\"text-align: right;\">\n",
       "      <th></th>\n",
       "      <th>COUNTRY</th>\n",
       "      <th>ISO</th>\n",
       "      <th>REGION</th>\n",
       "      <th>CATEGORY</th>\n",
       "      <th>MEASURE</th>\n",
       "      <th>COMMENTS</th>\n",
       "      <th>SOURCE</th>\n",
       "      <th>ENTRY_DATE</th>\n",
       "    </tr>\n",
       "  </thead>\n",
       "  <tbody>\n",
       "    <tr>\n",
       "      <th>0</th>\n",
       "      <td>Afghanistan</td>\n",
       "      <td>AFG</td>\n",
       "      <td>Asia</td>\n",
       "      <td>Public health measures</td>\n",
       "      <td>Health screenings in airports and border cross...</td>\n",
       "      <td>NaN</td>\n",
       "      <td>Ministry of Health</td>\n",
       "      <td>14-03-2020</td>\n",
       "    </tr>\n",
       "    <tr>\n",
       "      <th>1</th>\n",
       "      <td>Afghanistan</td>\n",
       "      <td>AFG</td>\n",
       "      <td>Asia</td>\n",
       "      <td>Public health measures</td>\n",
       "      <td>Introduction of isolation and quarantine policies</td>\n",
       "      <td>NaN</td>\n",
       "      <td>Ministry of Health</td>\n",
       "      <td>14-03-2020</td>\n",
       "    </tr>\n",
       "    <tr>\n",
       "      <th>2</th>\n",
       "      <td>Afghanistan</td>\n",
       "      <td>AFG</td>\n",
       "      <td>Asia</td>\n",
       "      <td>Public health measures</td>\n",
       "      <td>Awareness campaigns</td>\n",
       "      <td>NaN</td>\n",
       "      <td>Ministry of Health</td>\n",
       "      <td>14-03-2020</td>\n",
       "    </tr>\n",
       "    <tr>\n",
       "      <th>3</th>\n",
       "      <td>Afghanistan</td>\n",
       "      <td>AFG</td>\n",
       "      <td>Asia</td>\n",
       "      <td>Governance and socio-economic measures</td>\n",
       "      <td>Emergency administrative structures activated ...</td>\n",
       "      <td>NaN</td>\n",
       "      <td>Ministry of Health</td>\n",
       "      <td>14-03-2020</td>\n",
       "    </tr>\n",
       "    <tr>\n",
       "      <th>4</th>\n",
       "      <td>Afghanistan</td>\n",
       "      <td>AFG</td>\n",
       "      <td>Asia</td>\n",
       "      <td>Social distancing</td>\n",
       "      <td>Limit public gatherings</td>\n",
       "      <td>Nevruz festival cancelled</td>\n",
       "      <td>AA</td>\n",
       "      <td>14-03-2020</td>\n",
       "    </tr>\n",
       "  </tbody>\n",
       "</table>\n",
       "</div>"
      ],
      "text/plain": [
       "       COUNTRY  ISO REGION                                CATEGORY  \\\n",
       "0  Afghanistan  AFG   Asia                  Public health measures   \n",
       "1  Afghanistan  AFG   Asia                  Public health measures   \n",
       "2  Afghanistan  AFG   Asia                  Public health measures   \n",
       "3  Afghanistan  AFG   Asia  Governance and socio-economic measures   \n",
       "4  Afghanistan  AFG   Asia                       Social distancing   \n",
       "\n",
       "                                             MEASURE  \\\n",
       "0  Health screenings in airports and border cross...   \n",
       "1  Introduction of isolation and quarantine policies   \n",
       "2                                Awareness campaigns   \n",
       "3  Emergency administrative structures activated ...   \n",
       "4                            Limit public gatherings   \n",
       "\n",
       "                    COMMENTS              SOURCE  ENTRY_DATE  \n",
       "0                        NaN  Ministry of Health  14-03-2020  \n",
       "1                        NaN  Ministry of Health  14-03-2020  \n",
       "2                        NaN  Ministry of Health  14-03-2020  \n",
       "3                        NaN  Ministry of Health  14-03-2020  \n",
       "4  Nevruz festival cancelled                  AA  14-03-2020  "
      ]
     },
     "execution_count": 8,
     "metadata": {},
     "output_type": "execute_result"
    }
   ],
   "source": [
    "df.head(5)"
   ]
  },
  {
   "cell_type": "markdown",
   "metadata": {},
   "source": [
    "### 2.2) Drop duplicates"
   ]
  },
  {
   "cell_type": "code",
   "execution_count": 9,
   "metadata": {},
   "outputs": [
    {
     "name": "stdout",
     "output_type": "stream",
     "text": [
      "Number of duplicate records dropped: 625\n"
     ]
    }
   ],
   "source": [
    "before = len(df)\n",
    "df = df.drop_duplicates()\n",
    "after = len(df)\n",
    "print(f'Number of duplicate records dropped: {before - after}')"
   ]
  },
  {
   "cell_type": "code",
   "execution_count": 10,
   "metadata": {},
   "outputs": [
    {
     "data": {
      "text/plain": [
       "(4447, 8)"
      ]
     },
     "execution_count": 10,
     "metadata": {},
     "output_type": "execute_result"
    }
   ],
   "source": [
    "df.shape"
   ]
  },
  {
   "cell_type": "markdown",
   "metadata": {},
   "source": [
    "### 2.3) Drop rows with null values"
   ]
  },
  {
   "cell_type": "code",
   "execution_count": 11,
   "metadata": {},
   "outputs": [
    {
     "name": "stdout",
     "output_type": "stream",
     "text": [
      "Number of rows dropped: 1\n"
     ]
    }
   ],
   "source": [
    "before = df.shape[0]\n",
    "df = df[df.isnull().sum(axis=1) < 5]\n",
    "after = df.shape[0]\n",
    "print(f'Number of rows dropped: {before - after}')"
   ]
  },
  {
   "cell_type": "markdown",
   "metadata": {},
   "source": [
    "### 2.4) Filling Null Values"
   ]
  },
  {
   "cell_type": "code",
   "execution_count": 12,
   "metadata": {},
   "outputs": [],
   "source": [
    "df=df.fillna('Unknown')"
   ]
  },
  {
   "cell_type": "code",
   "execution_count": 13,
   "metadata": {},
   "outputs": [],
   "source": [
    "df=df.reset_index(drop=True)"
   ]
  },
  {
   "cell_type": "markdown",
   "metadata": {},
   "source": [
    "### 2.5) Correcting values in columns"
   ]
  },
  {
   "cell_type": "markdown",
   "metadata": {},
   "source": [
    "#### 2.5.1) Correcting ENTRY_DATE column"
   ]
  },
  {
   "cell_type": "markdown",
   "metadata": {},
   "source": [
    "The data type in the ENTRY_DATE column is a string. It will be transformed to datetime. It will be easier to work with this column later this way. "
   ]
  },
  {
   "cell_type": "code",
   "execution_count": 14,
   "metadata": {},
   "outputs": [
    {
     "data": {
      "text/plain": [
       "0       2020-03-14\n",
       "1       2020-03-14\n",
       "2       2020-03-14\n",
       "3       2020-03-14\n",
       "4       2020-03-14\n",
       "           ...    \n",
       "4441    2020-04-09\n",
       "4442    2020-04-09\n",
       "4443    2020-04-09\n",
       "4444    2020-04-09\n",
       "4445    2020-04-09\n",
       "Name: ENTRY_DATE, Length: 4446, dtype: object"
      ]
     },
     "execution_count": 14,
     "metadata": {},
     "output_type": "execute_result"
    }
   ],
   "source": [
    "for i,e in df['ENTRY_DATE'].items():\n",
    "    fecha=e.split('-')\n",
    "    fecha=[fecha[2],fecha[1],fecha[0]]\n",
    "    fecha=[int(e) for e in fecha]\n",
    "    df['ENTRY_DATE'][i]=datetime.date(*fecha)\n",
    "\n",
    "df['ENTRY_DATE']"
   ]
  },
  {
   "cell_type": "markdown",
   "metadata": {},
   "source": [
    "#### 2.5.2) Correcting ISO column"
   ]
  },
  {
   "cell_type": "markdown",
   "metadata": {},
   "source": [
    "The [API](https://about-corona.net/documentation) used in this project provides information about the COVID evolution throughout time for a specific country. It requests a string paremeter with the country code in [ISO 3166-1 alpha-2 format](https://en.wikipedia.org/wiki/ISO_3166-1_alpha-2). For this reason, the ISO column will be modified to meet these requirements. "
   ]
  },
  {
   "cell_type": "code",
   "execution_count": 38,
   "metadata": {},
   "outputs": [
    {
     "data": {
      "text/html": [
       "<div>\n",
       "<style scoped>\n",
       "    .dataframe tbody tr th:only-of-type {\n",
       "        vertical-align: middle;\n",
       "    }\n",
       "\n",
       "    .dataframe tbody tr th {\n",
       "        vertical-align: top;\n",
       "    }\n",
       "\n",
       "    .dataframe thead th {\n",
       "        text-align: right;\n",
       "    }\n",
       "</style>\n",
       "<table border=\"1\" class=\"dataframe\">\n",
       "  <thead>\n",
       "    <tr style=\"text-align: right;\">\n",
       "      <th></th>\n",
       "      <th>COUNTRY</th>\n",
       "      <th>ISO</th>\n",
       "      <th>REGION</th>\n",
       "      <th>CATEGORY</th>\n",
       "      <th>MEASURE</th>\n",
       "      <th>COMMENTS</th>\n",
       "      <th>SOURCE</th>\n",
       "      <th>ENTRY_DATE</th>\n",
       "      <th>ISO_2</th>\n",
       "    </tr>\n",
       "  </thead>\n",
       "  <tbody>\n",
       "    <tr>\n",
       "      <th>0</th>\n",
       "      <td>Afghanistan</td>\n",
       "      <td>AF</td>\n",
       "      <td>Asia</td>\n",
       "      <td>Public health measures</td>\n",
       "      <td>health screenings in airports and border cross...</td>\n",
       "      <td>Unknown</td>\n",
       "      <td>ministry of health</td>\n",
       "      <td>2020-03-14</td>\n",
       "      <td>AF</td>\n",
       "    </tr>\n",
       "    <tr>\n",
       "      <th>1</th>\n",
       "      <td>Afghanistan</td>\n",
       "      <td>AF</td>\n",
       "      <td>Asia</td>\n",
       "      <td>Public health measures</td>\n",
       "      <td>introduction of isolation and quarantine policies</td>\n",
       "      <td>Unknown</td>\n",
       "      <td>ministry of health</td>\n",
       "      <td>2020-03-14</td>\n",
       "      <td>AF</td>\n",
       "    </tr>\n",
       "    <tr>\n",
       "      <th>2</th>\n",
       "      <td>Afghanistan</td>\n",
       "      <td>AF</td>\n",
       "      <td>Asia</td>\n",
       "      <td>Public health measures</td>\n",
       "      <td>awareness campaigns</td>\n",
       "      <td>Unknown</td>\n",
       "      <td>ministry of health</td>\n",
       "      <td>2020-03-14</td>\n",
       "      <td>AF</td>\n",
       "    </tr>\n",
       "    <tr>\n",
       "      <th>3</th>\n",
       "      <td>Afghanistan</td>\n",
       "      <td>AF</td>\n",
       "      <td>Asia</td>\n",
       "      <td>Governance and socio-economic measures</td>\n",
       "      <td>emergency administrative structures activated ...</td>\n",
       "      <td>Unknown</td>\n",
       "      <td>ministry of health</td>\n",
       "      <td>2020-03-14</td>\n",
       "      <td>AF</td>\n",
       "    </tr>\n",
       "    <tr>\n",
       "      <th>4</th>\n",
       "      <td>Afghanistan</td>\n",
       "      <td>AF</td>\n",
       "      <td>Asia</td>\n",
       "      <td>Social distancing</td>\n",
       "      <td>limit public gatherings</td>\n",
       "      <td>Nevruz festival cancelled</td>\n",
       "      <td>aa</td>\n",
       "      <td>2020-03-14</td>\n",
       "      <td>AF</td>\n",
       "    </tr>\n",
       "  </tbody>\n",
       "</table>\n",
       "</div>"
      ],
      "text/plain": [
       "       COUNTRY ISO REGION                                CATEGORY  \\\n",
       "0  Afghanistan  AF   Asia                  Public health measures   \n",
       "1  Afghanistan  AF   Asia                  Public health measures   \n",
       "2  Afghanistan  AF   Asia                  Public health measures   \n",
       "3  Afghanistan  AF   Asia  Governance and socio-economic measures   \n",
       "4  Afghanistan  AF   Asia                       Social distancing   \n",
       "\n",
       "                                             MEASURE  \\\n",
       "0  health screenings in airports and border cross...   \n",
       "1  introduction of isolation and quarantine policies   \n",
       "2                                awareness campaigns   \n",
       "3  emergency administrative structures activated ...   \n",
       "4                            limit public gatherings   \n",
       "\n",
       "                    COMMENTS              SOURCE  ENTRY_DATE ISO_2  \n",
       "0                    Unknown  ministry of health  2020-03-14    AF  \n",
       "1                    Unknown  ministry of health  2020-03-14    AF  \n",
       "2                    Unknown  ministry of health  2020-03-14    AF  \n",
       "3                    Unknown  ministry of health  2020-03-14    AF  \n",
       "4  Nevruz festival cancelled                  aa  2020-03-14    AF  "
      ]
     },
     "execution_count": 38,
     "metadata": {},
     "output_type": "execute_result"
    }
   ],
   "source": [
    "import pycountry\n",
    "input_countries=list(df['COUNTRY'].unique())\n",
    "countries = {}\n",
    "for country in pycountry.countries:\n",
    "    countries[country.name] = country.alpha_2\n",
    "#countries\n",
    "df[\"ISO_ALP_2\"] = df[\"COUNTRY\"]\n",
    "df=df.replace({\"ISO_ALP_2\": countries})\n",
    "\n",
    "df.head()"
   ]
  },
  {
   "cell_type": "code",
   "execution_count": 15,
   "metadata": {},
   "outputs": [],
   "source": [
    "import pycountry\n",
    "\n",
    "countries = {}\n",
    "for country in pycountry.countries:\n",
    "    countries[country.name] = country.alpha_2\n",
    "\n",
    "alpha2f = {\n",
    "           'Dec' : 'Dec-Feb', 'Jan' : 'Dec-Feb', 'Feb' : 'Dec-Feb',\n",
    "           'Mar' : 'Mar-May', 'Apr' : 'Mar-May', 'May' : 'Mar-May',\n",
    "           'Jun' : 'Jun-Aug', 'Jul' : 'Jun-Aug', 'Aug' : 'Jun-Aug',\n",
    "           'Sep' : 'Sep-Nov', 'Oct' : 'Sep-Nov', 'Nov' : 'Sep-Nov', \n",
    "           }\n",
    "\n",
    "df=df.replace(\"ISO\": alpha2f)\n",
    "\n",
    "\n",
    "for i,e in df['ISO'].items():\n",
    "    df['ISO'][i]=e[:2]"
   ]
  },
  {
   "cell_type": "markdown",
   "metadata": {},
   "source": [
    "#### 2.5.3) Correcting MEASURE column"
   ]
  },
  {
   "cell_type": "code",
   "execution_count": 16,
   "metadata": {},
   "outputs": [
    {
     "data": {
      "text/plain": [
       "Economic measures                                               489\n",
       "Limit public gatherings                                         427\n",
       "Strengthening the public health system                          391\n",
       "Introduction of isolation and quarantine policies               391\n",
       "International flights suspension                                244\n",
       "Visa restrictions                                               238\n",
       "Border closureÿ                                                 236\n",
       "Public services closureÿ                                        224\n",
       "General recommendations                                         200\n",
       "Schools closureÿ                                                190\n",
       "Awareness campaigns                                             186\n",
       "Health screenings in airports and border crossings              177\n",
       "Domestic travel restrictions                                    155\n",
       "Emergency administrative structures activated or established    139\n",
       "Curfews                                                         132\n",
       "Partial lockdown                                                116\n",
       "State of emergency declared                                     113\n",
       "Surveillance and monitoring                                      86\n",
       "Additional health/documents requirements upon arrival            50\n",
       "Military deployment                                              36\n",
       "Testing policy                                                   36\n",
       "Border checksÿ                                                   35\n",
       "Changes in prison-related policies                               31\n",
       "Psychological assistance and medical social work                 21\n",
       "Limit product imports/exports                                    18\n",
       "Full lockdown                                                    17\n",
       "Checkpoints within the country                                   12\n",
       "Other public health measures enforced                            10\n",
       "Amendments to funeral and burial regulations                     10\n",
       "Lockdown of refugee/idp camps or other minorities                 6\n",
       "Requirement to wear protective gear in public                     6\n",
       "Mass population testing                                           6\n",
       "strengthening the public health system                            5\n",
       "limit public gatherings                                           5\n",
       "testing policy                                                    3\n",
       "Obligatory medical tests not related to COVID-19                  2\n",
       "Humanitarian exemptions                                           2\n",
       "Complete border closure                                           1\n",
       "Name: MEASURE, dtype: int64"
      ]
     },
     "execution_count": 16,
     "metadata": {},
     "output_type": "execute_result"
    }
   ],
   "source": [
    "df['MEASURE'].value_counts()"
   ]
  },
  {
   "cell_type": "code",
   "execution_count": 17,
   "metadata": {},
   "outputs": [],
   "source": [
    "for i,e in df['MEASURE'].items():\n",
    "    df['MEASURE'][i]=e.lower()\n",
    "    if 'ÿ' in e:\n",
    "        df['MEASURE'][i]=e.replace('ÿ','')"
   ]
  },
  {
   "cell_type": "markdown",
   "metadata": {},
   "source": [
    "#### 2.5.4) Correcting SOURCE column"
   ]
  },
  {
   "cell_type": "code",
   "execution_count": 18,
   "metadata": {},
   "outputs": [],
   "source": [
    "for i,e in df['SOURCE'].items():\n",
    "    df['SOURCE'][i]=e.lower()\n",
    "    if '.' in e:\n",
    "        df['SOURCE'][i]=e.replace('.','')"
   ]
  },
  {
   "cell_type": "markdown",
   "metadata": {},
   "source": [
    "## 3) Save Clean dataset"
   ]
  },
  {
   "cell_type": "markdown",
   "metadata": {},
   "source": [
    "The clean dataset will be saved in the output folder for later analysis."
   ]
  },
  {
   "cell_type": "code",
   "execution_count": 28,
   "metadata": {},
   "outputs": [
    {
     "data": {
      "text/html": [
       "<div>\n",
       "<style scoped>\n",
       "    .dataframe tbody tr th:only-of-type {\n",
       "        vertical-align: middle;\n",
       "    }\n",
       "\n",
       "    .dataframe tbody tr th {\n",
       "        vertical-align: top;\n",
       "    }\n",
       "\n",
       "    .dataframe thead th {\n",
       "        text-align: right;\n",
       "    }\n",
       "</style>\n",
       "<table border=\"1\" class=\"dataframe\">\n",
       "  <thead>\n",
       "    <tr style=\"text-align: right;\">\n",
       "      <th></th>\n",
       "      <th>COUNTRY</th>\n",
       "      <th>ISO</th>\n",
       "      <th>REGION</th>\n",
       "      <th>CATEGORY</th>\n",
       "      <th>MEASURE</th>\n",
       "      <th>COMMENTS</th>\n",
       "      <th>SOURCE</th>\n",
       "      <th>ENTRY_DATE</th>\n",
       "    </tr>\n",
       "  </thead>\n",
       "  <tbody>\n",
       "    <tr>\n",
       "      <th>23</th>\n",
       "      <td>Argentina</td>\n",
       "      <td>AR</td>\n",
       "      <td>Americas</td>\n",
       "      <td>Movement restrictions</td>\n",
       "      <td>international flights suspension</td>\n",
       "      <td>Flights from countries with COVID transmissions.</td>\n",
       "      <td>ministry of foreign affairs - france</td>\n",
       "      <td>2020-03-14</td>\n",
       "    </tr>\n",
       "    <tr>\n",
       "      <th>24</th>\n",
       "      <td>Argentina</td>\n",
       "      <td>AR</td>\n",
       "      <td>Americas</td>\n",
       "      <td>Movement restrictions</td>\n",
       "      <td>visa restrictions</td>\n",
       "      <td>For long term</td>\n",
       "      <td>ministry of foreign affairs - francce</td>\n",
       "      <td>2020-03-14</td>\n",
       "    </tr>\n",
       "    <tr>\n",
       "      <th>25</th>\n",
       "      <td>Argentina</td>\n",
       "      <td>AR</td>\n",
       "      <td>Americas</td>\n",
       "      <td>Public health measures</td>\n",
       "      <td>introduction of isolation and quarantine policies</td>\n",
       "      <td>From Europe, UK, USA, South Korea, Japan, Chin...</td>\n",
       "      <td>ministry of foreign affairs - francce</td>\n",
       "      <td>2020-03-14</td>\n",
       "    </tr>\n",
       "    <tr>\n",
       "      <th>61</th>\n",
       "      <td>Armenia</td>\n",
       "      <td>AR</td>\n",
       "      <td>Asia</td>\n",
       "      <td>Public health measures</td>\n",
       "      <td>health screenings in airports and border cross...</td>\n",
       "      <td>New arrivals also fill out information forms</td>\n",
       "      <td>government of the republic of armenia</td>\n",
       "      <td>2020-03-14</td>\n",
       "    </tr>\n",
       "    <tr>\n",
       "      <th>63</th>\n",
       "      <td>Armenia</td>\n",
       "      <td>AR</td>\n",
       "      <td>Asia</td>\n",
       "      <td>Movement restrictions</td>\n",
       "      <td>Border closure</td>\n",
       "      <td>iran for 2 weeks</td>\n",
       "      <td>us embassy</td>\n",
       "      <td>2020-03-14</td>\n",
       "    </tr>\n",
       "    <tr>\n",
       "      <th>...</th>\n",
       "      <td>...</td>\n",
       "      <td>...</td>\n",
       "      <td>...</td>\n",
       "      <td>...</td>\n",
       "      <td>...</td>\n",
       "      <td>...</td>\n",
       "      <td>...</td>\n",
       "      <td>...</td>\n",
       "    </tr>\n",
       "    <tr>\n",
       "      <th>3708</th>\n",
       "      <td>Armenia</td>\n",
       "      <td>AR</td>\n",
       "      <td>Asia</td>\n",
       "      <td>Public health measures</td>\n",
       "      <td>introduction of isolation and quarantine policies</td>\n",
       "      <td>Self-isolation is mandatory for all persons an...</td>\n",
       "      <td>international sos</td>\n",
       "      <td>2020-04-03</td>\n",
       "    </tr>\n",
       "    <tr>\n",
       "      <th>3709</th>\n",
       "      <td>Armenia</td>\n",
       "      <td>AR</td>\n",
       "      <td>Asia</td>\n",
       "      <td>Movement restrictions</td>\n",
       "      <td>visa restrictions</td>\n",
       "      <td>citizens of Australia, Canada, China, EU membe...</td>\n",
       "      <td>international sos</td>\n",
       "      <td>2020-04-03</td>\n",
       "    </tr>\n",
       "    <tr>\n",
       "      <th>4415</th>\n",
       "      <td>United Arab Emirates</td>\n",
       "      <td>AR</td>\n",
       "      <td>Middle East</td>\n",
       "      <td>Governance and socio-economic measures</td>\n",
       "      <td>emergency administrative structures activated ...</td>\n",
       "      <td>Federal Law No. 14 of 2014 on Communicable Dis...</td>\n",
       "      <td>global states of emergency</td>\n",
       "      <td>2020-04-09</td>\n",
       "    </tr>\n",
       "    <tr>\n",
       "      <th>4442</th>\n",
       "      <td>Armenia</td>\n",
       "      <td>AR</td>\n",
       "      <td>Asia</td>\n",
       "      <td>Lockdown</td>\n",
       "      <td>partial lockdown</td>\n",
       "      <td>only be allowed to leave their homes to buy fo...</td>\n",
       "      <td>global states of emergency</td>\n",
       "      <td>2020-04-09</td>\n",
       "    </tr>\n",
       "    <tr>\n",
       "      <th>4443</th>\n",
       "      <td>Armenia</td>\n",
       "      <td>AR</td>\n",
       "      <td>Asia</td>\n",
       "      <td>Lockdown</td>\n",
       "      <td>partial lockdown</td>\n",
       "      <td>Armenia?s government has decided to extend a n...</td>\n",
       "      <td>government of armenia</td>\n",
       "      <td>2020-04-09</td>\n",
       "    </tr>\n",
       "  </tbody>\n",
       "</table>\n",
       "<p>68 rows × 8 columns</p>\n",
       "</div>"
      ],
      "text/plain": [
       "                   COUNTRY ISO       REGION  \\\n",
       "23               Argentina  AR     Americas   \n",
       "24               Argentina  AR     Americas   \n",
       "25               Argentina  AR     Americas   \n",
       "61                 Armenia  AR         Asia   \n",
       "63                 Armenia  AR         Asia   \n",
       "...                    ...  ..          ...   \n",
       "3708               Armenia  AR         Asia   \n",
       "3709               Armenia  AR         Asia   \n",
       "4415  United Arab Emirates  AR  Middle East   \n",
       "4442               Armenia  AR         Asia   \n",
       "4443               Armenia  AR         Asia   \n",
       "\n",
       "                                    CATEGORY  \\\n",
       "23                     Movement restrictions   \n",
       "24                     Movement restrictions   \n",
       "25                    Public health measures   \n",
       "61                    Public health measures   \n",
       "63                     Movement restrictions   \n",
       "...                                      ...   \n",
       "3708                  Public health measures   \n",
       "3709                   Movement restrictions   \n",
       "4415  Governance and socio-economic measures   \n",
       "4442                                Lockdown   \n",
       "4443                                Lockdown   \n",
       "\n",
       "                                                MEASURE  \\\n",
       "23                     international flights suspension   \n",
       "24                                    visa restrictions   \n",
       "25    introduction of isolation and quarantine policies   \n",
       "61    health screenings in airports and border cross...   \n",
       "63                                       Border closure   \n",
       "...                                                 ...   \n",
       "3708  introduction of isolation and quarantine policies   \n",
       "3709                                  visa restrictions   \n",
       "4415  emergency administrative structures activated ...   \n",
       "4442                                   partial lockdown   \n",
       "4443                                   partial lockdown   \n",
       "\n",
       "                                               COMMENTS  \\\n",
       "23     Flights from countries with COVID transmissions.   \n",
       "24                                       For long term    \n",
       "25    From Europe, UK, USA, South Korea, Japan, Chin...   \n",
       "61         New arrivals also fill out information forms   \n",
       "63                                     iran for 2 weeks   \n",
       "...                                                 ...   \n",
       "3708  Self-isolation is mandatory for all persons an...   \n",
       "3709  citizens of Australia, Canada, China, EU membe...   \n",
       "4415  Federal Law No. 14 of 2014 on Communicable Dis...   \n",
       "4442  only be allowed to leave their homes to buy fo...   \n",
       "4443  Armenia?s government has decided to extend a n...   \n",
       "\n",
       "                                     SOURCE  ENTRY_DATE  \n",
       "23     ministry of foreign affairs - france  2020-03-14  \n",
       "24    ministry of foreign affairs - francce  2020-03-14  \n",
       "25    ministry of foreign affairs - francce  2020-03-14  \n",
       "61    government of the republic of armenia  2020-03-14  \n",
       "63                              us embassy   2020-03-14  \n",
       "...                                     ...         ...  \n",
       "3708                      international sos  2020-04-03  \n",
       "3709                      international sos  2020-04-03  \n",
       "4415            global states of emergency   2020-04-09  \n",
       "4442            global states of emergency   2020-04-09  \n",
       "4443                 government of armenia   2020-04-09  \n",
       "\n",
       "[68 rows x 8 columns]"
      ]
     },
     "execution_count": 28,
     "metadata": {},
     "output_type": "execute_result"
    }
   ],
   "source": [
    "df[df['ISO']=='AR']"
   ]
  },
  {
   "cell_type": "code",
   "execution_count": null,
   "metadata": {},
   "outputs": [],
   "source": []
  },
  {
   "cell_type": "code",
   "execution_count": 20,
   "metadata": {},
   "outputs": [],
   "source": [
    "df.to_csv(\"output/clean.csv\")"
   ]
  }
 ],
 "metadata": {
  "kernelspec": {
   "display_name": "analytics_env",
   "language": "python",
   "name": "analytics_env"
  },
  "language_info": {
   "codemirror_mode": {
    "name": "ipython",
    "version": 3
   },
   "file_extension": ".py",
   "mimetype": "text/x-python",
   "name": "python",
   "nbconvert_exporter": "python",
   "pygments_lexer": "ipython3",
   "version": "3.8.2"
  }
 },
 "nbformat": 4,
 "nbformat_minor": 4
}
